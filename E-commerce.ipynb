{
 "cells": [
  {
   "cell_type": "markdown",
   "id": "9f5dd977",
   "metadata": {},
   "source": []
  }
 ],
 "metadata": {
  "language_info": {
   "name": "python"
  }
 },
 "nbformat": 4,
 "nbformat_minor": 5
}
